{
 "cells": [
  {
   "cell_type": "code",
   "execution_count": null,
   "metadata": {},
   "outputs": [],
   "source": [
    "import os\n",
    "\n",
    "from supabase import create_client, Client\n",
    "SUPABASE_KEY = os.getenv(\"SUPABASE_KEY\")\n",
    "SUPABASE_URL = os.getenv(\"SUPABASE_URL\")\n",
    "\n",
    "client = create_client(\n",
    "    SUPABASE_URL,\n",
    "    SUPABASE_KEY)"
   ]
  },
  {
   "cell_type": "code",
   "execution_count": null,
   "metadata": {},
   "outputs": [],
   "source": []
  },
  {
   "cell_type": "code",
   "execution_count": null,
   "metadata": {},
   "outputs": [],
   "source": []
  },
  {
   "cell_type": "code",
   "execution_count": null,
   "metadata": {},
   "outputs": [],
   "source": []
  },
  {
   "cell_type": "code",
   "execution_count": 5,
   "metadata": {},
   "outputs": [],
   "source": [
    "response = client.table(\"items\").select(\"*\").execute()\n",
    "data = response.data"
   ]
  },
  {
   "cell_type": "code",
   "execution_count": 6,
   "metadata": {},
   "outputs": [],
   "source": [
    "items = data"
   ]
  },
  {
   "cell_type": "code",
   "execution_count": 7,
   "metadata": {},
   "outputs": [
    {
     "data": {
      "text/plain": [
       "{'id': '6aefe176-f2ff-4b05-bba8-1a4a4760329d',\n",
       " 'name': '薬草',\n",
       " 'leadtime': 48,\n",
       " 'price': 20}"
      ]
     },
     "execution_count": 7,
     "metadata": {},
     "output_type": "execute_result"
    }
   ],
   "source": [
    "items[0]"
   ]
  },
  {
   "cell_type": "code",
   "execution_count": 8,
   "metadata": {},
   "outputs": [],
   "source": [
    "response = client.table(\"crafts\").select(\"id, yield, precursors(items(name)), products(items(name))\").execute()\n",
    "data = response.data"
   ]
  },
  {
   "cell_type": "code",
   "execution_count": 9,
   "metadata": {},
   "outputs": [
    {
     "data": {
      "text/plain": [
       "[{'id': 'c2a049e4-8255-47ea-9d23-9e911a2c1d60',\n",
       "  'yield': 0.9,\n",
       "  'precursors': [{'items': {'name': '薬草'}}, {'items': {'name': 'アオキノコ'}}],\n",
       "  'products': [{'items': {'name': '回復薬'}}]},\n",
       " {'id': '9746090b-c288-417a-9f11-6c0a6907e1c3',\n",
       "  'yield': 0.9,\n",
       "  'precursors': [{'items': {'name': '不死虫'}}, {'items': {'name': 'アオキノコ'}}],\n",
       "  'products': [{'items': {'name': '栄養剤'}}]},\n",
       " {'id': 'f681c2f3-97cc-45df-b91f-82a42d9e0c37',\n",
       "  'yield': 0.75,\n",
       "  'precursors': [{'items': {'name': 'にが虫'}}, {'items': {'name': 'ハチミツ'}}],\n",
       "  'products': [{'items': {'name': '増強剤'}}]},\n",
       " {'id': '0ff4965b-00a4-4d80-85db-d55f4e5b230f',\n",
       "  'yield': 0.95,\n",
       "  'precursors': [{'items': {'name': 'げどく草'}}, {'items': {'name': 'アオキノコ'}}],\n",
       "  'products': [{'items': {'name': '解毒薬'}}]},\n",
       " {'id': '7f49149b-e66f-43f9-be9d-02179c82bdaf',\n",
       "  'yield': 0.75,\n",
       "  'precursors': [{'items': {'name': '増強剤'}}, {'items': {'name': 'マンドラゴラ'}}],\n",
       "  'products': [{'items': {'name': '活力剤'}}]},\n",
       " {'id': '2109e17b-c6fc-4fa4-908c-ef4cf16e5a66',\n",
       "  'yield': 0.95,\n",
       "  'precursors': [{'items': {'name': '回復薬'}}, {'items': {'name': 'ハチミツ'}}],\n",
       "  'products': [{'items': {'name': '回復薬G'}}]},\n",
       " {'id': '1c812ed5-5cb1-469e-8c85-e2b81f3e74b5',\n",
       "  'yield': 0.75,\n",
       "  'precursors': [{'items': {'name': '不死虫'}}, {'items': {'name': 'ハチミツ'}}],\n",
       "  'products': [{'items': {'name': '栄養剤G'}}]},\n",
       " {'id': '1dd0c757-11e5-48a2-a2bb-417d3820b862',\n",
       "  'yield': 0.65,\n",
       "  'precursors': [{'items': {'name': '栄養剤G'}}, {'items': {'name': 'マンドラゴラ'}}],\n",
       "  'products': [{'items': {'name': '秘薬'}}]},\n",
       " {'id': '08030fed-ef9b-4d43-b793-75019e2177e4',\n",
       "  'yield': 0.55,\n",
       "  'precursors': [{'items': {'name': '活力剤'}}, {'items': {'name': 'ケルビの角'}}],\n",
       "  'products': [{'items': {'name': '古の秘薬'}}]}]"
      ]
     },
     "execution_count": 9,
     "metadata": {},
     "output_type": "execute_result"
    }
   ],
   "source": [
    "data"
   ]
  },
  {
   "cell_type": "code",
   "execution_count": 12,
   "metadata": {},
   "outputs": [
    {
     "data": {
      "text/plain": [
       "[{'id': '3fd92ecd-8a6c-4e88-8873-2b442f7c570a',\n",
       "  'player_id': 'bf12f2a1-ee05-49a0-9134-a36d972cd07d',\n",
       "  'gold': 500,\n",
       "  'current_day': 0,\n",
       "  'current_hour': 0}]"
      ]
     },
     "execution_count": 12,
     "metadata": {},
     "output_type": "execute_result"
    }
   ],
   "source": [
    "response = client.table(\"savedatas\").select(\"*\").execute()\n",
    "data = response.data\n",
    "data"
   ]
  },
  {
   "cell_type": "code",
   "execution_count": 17,
   "metadata": {},
   "outputs": [
    {
     "data": {
      "text/plain": [
       "[{'gold': 500,\n",
       "  'current_day': 0,\n",
       "  'current_hour': 0,\n",
       "  'players': {'name': 'Admin'},\n",
       "  'belongings': [{'items': {'name': '薬草'}, 'quantity': 10},\n",
       "   {'items': {'name': 'アオキノコ'}, 'quantity': 10}]}]"
      ]
     },
     "execution_count": 17,
     "metadata": {},
     "output_type": "execute_result"
    }
   ],
   "source": [
    "response = client.table(\"savedatas\").select(\"gold, current_day, current_hour, players(name), belongings(items(name), quantity)\").execute()\n",
    "data = response.data\n",
    "data"
   ]
  },
  {
   "cell_type": "code",
   "execution_count": null,
   "metadata": {},
   "outputs": [],
   "source": []
  },
  {
   "cell_type": "code",
   "execution_count": null,
   "metadata": {},
   "outputs": [],
   "source": []
  },
  {
   "cell_type": "code",
   "execution_count": null,
   "metadata": {},
   "outputs": [],
   "source": []
  },
  {
   "cell_type": "code",
   "execution_count": null,
   "metadata": {},
   "outputs": [],
   "source": []
  }
 ],
 "metadata": {
  "kernelspec": {
   "display_name": "src-MATOk_fk-py3.12",
   "language": "python",
   "name": "python3"
  },
  "language_info": {
   "codemirror_mode": {
    "name": "ipython",
    "version": 3
   },
   "file_extension": ".py",
   "mimetype": "text/x-python",
   "name": "python",
   "nbconvert_exporter": "python",
   "pygments_lexer": "ipython3",
   "version": "3.12.4"
  }
 },
 "nbformat": 4,
 "nbformat_minor": 2
}
